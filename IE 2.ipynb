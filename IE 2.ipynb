{
 "cells": [
  {
   "cell_type": "code",
   "execution_count": 1,
   "id": "0810fd24",
   "metadata": {},
   "outputs": [],
   "source": [
    "import cv2\n",
    "import os\n",
    "import numpy as np"
   ]
  },
  {
   "cell_type": "code",
   "execution_count": 2,
   "id": "767c88d2",
   "metadata": {},
   "outputs": [],
   "source": [
    "def dark_channel_prior(img, window_size=15):\n",
    "    # Step 1: Median Filter\n",
    "    median_filtered = cv2.medianBlur(img, window_size)\n",
    "\n",
    "    # Step 2: RGB Separation\n",
    "    R, G, B = cv2.split(median_filtered)\n",
    "\n",
    "    # Step 3: Dark Channel Prior\n",
    "    dark_channel = cv2.min(R, cv2.min(G, B))\n",
    "    \n",
    "    return dark_channel"
   ]
  },
  {
   "cell_type": "code",
   "execution_count": 3,
   "id": "4ca40b2c",
   "metadata": {},
   "outputs": [],
   "source": [
    "def estimate_transmission(img, dark_channel, omega=0.95, window_size=15):\n",
    "    A = dark_channel_prior(img, window_size)\n",
    "    transmission = 1 - omega * A\n",
    "    return transmission"
   ]
  },
  {
   "cell_type": "code",
   "execution_count": 4,
   "id": "5c41be5c",
   "metadata": {},
   "outputs": [],
   "source": [
    "def guided_filter(p, I, radius=40, eps=1e-3):\n",
    "    mean_p = cv2.boxFilter(p, -1, (radius, radius))\n",
    "    mean_I = cv2.boxFilter(I, -1, (radius, radius))\n",
    "    mean_Ip = cv2.boxFilter(I * p, -1, (radius, radius))\n",
    "    cov_Ip = mean_Ip - mean_I * mean_p\n",
    "    mean_II = cv2.boxFilter(I * I, -1, (radius, radius))\n",
    "    var_I = mean_II - mean_I * mean_I\n",
    "    a = cov_Ip / (var_I + eps)\n",
    "    b = mean_p - a * mean_I\n",
    "    mean_a = cv2.boxFilter(a, -1, (radius, radius))\n",
    "    mean_b = cv2.boxFilter(b, -1, (radius, radius))\n",
    "    q = mean_a * I + mean_b\n",
    "    return q"
   ]
  },
  {
   "cell_type": "code",
   "execution_count": 5,
   "id": "1b5b00f5",
   "metadata": {},
   "outputs": [],
   "source": [
    "def dehaze(input_image, window_size=15, omega=0.95, guided_filter_radius=40, guided_filter_eps=1e-3):\n",
    "    # Step 1: Dark Channel Prior\n",
    "    dark_channel = dark_channel_prior(input_image, window_size)\n",
    "\n",
    "    # Step 2: Estimate Transmission Map\n",
    "    transmission = estimate_transmission(input_image, dark_channel, omega, window_size)\n",
    "\n",
    "    # Step 3: Guided Filter\n",
    "    dehazed_image = guided_filter(transmission, input_image, guided_filter_radius, guided_filter_eps)\n",
    "\n",
    "    return dehazed_image"
   ]
  },
  {
   "cell_type": "code",
   "execution_count": 6,
   "id": "d7f335c2",
   "metadata": {},
   "outputs": [
    {
     "ename": "ValueError",
     "evalue": "operands could not be broadcast together with shapes (720,1280,3) (720,1280) ",
     "output_type": "error",
     "traceback": [
      "\u001b[1;31m---------------------------------------------------------------------------\u001b[0m",
      "\u001b[1;31mValueError\u001b[0m                                Traceback (most recent call last)",
      "Cell \u001b[1;32mIn[6], line 21\u001b[0m\n\u001b[0;32m     18\u001b[0m input_image \u001b[38;5;241m=\u001b[39m cv2\u001b[38;5;241m.\u001b[39mimread(input_image_path)\n\u001b[0;32m     20\u001b[0m \u001b[38;5;66;03m# Enhance the image using the Dark Channel Prior\u001b[39;00m\n\u001b[1;32m---> 21\u001b[0m enhanced_image \u001b[38;5;241m=\u001b[39m dehaze(input_image)\n\u001b[0;32m     23\u001b[0m \u001b[38;5;66;03m# Save the enhanced image to the output folder within the input folder\u001b[39;00m\n\u001b[0;32m     24\u001b[0m output_image_path \u001b[38;5;241m=\u001b[39m os\u001b[38;5;241m.\u001b[39mpath\u001b[38;5;241m.\u001b[39mjoin(output_folder, image_file)\n",
      "Cell \u001b[1;32mIn[5], line 9\u001b[0m, in \u001b[0;36mdehaze\u001b[1;34m(input_image, window_size, omega, guided_filter_radius, guided_filter_eps)\u001b[0m\n\u001b[0;32m      6\u001b[0m transmission \u001b[38;5;241m=\u001b[39m estimate_transmission(input_image, dark_channel, omega, window_size)\n\u001b[0;32m      8\u001b[0m \u001b[38;5;66;03m# Step 3: Guided Filter\u001b[39;00m\n\u001b[1;32m----> 9\u001b[0m dehazed_image \u001b[38;5;241m=\u001b[39m guided_filter(transmission, input_image, guided_filter_radius, guided_filter_eps)\n\u001b[0;32m     11\u001b[0m \u001b[38;5;28;01mreturn\u001b[39;00m dehazed_image\n",
      "Cell \u001b[1;32mIn[4], line 4\u001b[0m, in \u001b[0;36mguided_filter\u001b[1;34m(p, I, radius, eps)\u001b[0m\n\u001b[0;32m      2\u001b[0m mean_p \u001b[38;5;241m=\u001b[39m cv2\u001b[38;5;241m.\u001b[39mboxFilter(p, \u001b[38;5;241m-\u001b[39m\u001b[38;5;241m1\u001b[39m, (radius, radius))\n\u001b[0;32m      3\u001b[0m mean_I \u001b[38;5;241m=\u001b[39m cv2\u001b[38;5;241m.\u001b[39mboxFilter(I, \u001b[38;5;241m-\u001b[39m\u001b[38;5;241m1\u001b[39m, (radius, radius))\n\u001b[1;32m----> 4\u001b[0m mean_Ip \u001b[38;5;241m=\u001b[39m cv2\u001b[38;5;241m.\u001b[39mboxFilter(I \u001b[38;5;241m*\u001b[39m p, \u001b[38;5;241m-\u001b[39m\u001b[38;5;241m1\u001b[39m, (radius, radius))\n\u001b[0;32m      5\u001b[0m cov_Ip \u001b[38;5;241m=\u001b[39m mean_Ip \u001b[38;5;241m-\u001b[39m mean_I \u001b[38;5;241m*\u001b[39m mean_p\n\u001b[0;32m      6\u001b[0m mean_II \u001b[38;5;241m=\u001b[39m cv2\u001b[38;5;241m.\u001b[39mboxFilter(I \u001b[38;5;241m*\u001b[39m I, \u001b[38;5;241m-\u001b[39m\u001b[38;5;241m1\u001b[39m, (radius, radius))\n",
      "\u001b[1;31mValueError\u001b[0m: operands could not be broadcast together with shapes (720,1280,3) (720,1280) "
     ]
    }
   ],
   "source": [
    "# Get the current directory\n",
    "current_directory = os.getcwd()\n",
    "\n",
    "# Define input and output folder paths\n",
    "input_folder = os.path.join(current_directory, 'Input')\n",
    "output_folder = os.path.join(input_folder, 'Output')\n",
    "\n",
    "# Create the output folder if it doesn't exist\n",
    "if not os.path.exists(output_folder):\n",
    "    os.makedirs(output_folder)\n",
    "\n",
    "# List all image files in the input folder\n",
    "image_files = [f for f in os.listdir(input_folder) if f.endswith(('.jpg', '.jpeg', '.png', '.bmp'))]\n",
    "\n",
    "for image_file in image_files:\n",
    "    # Load the underwater image\n",
    "    input_image_path = os.path.join(input_folder, image_file)\n",
    "    input_image = cv2.imread(input_image_path)\n",
    "\n",
    "    # Enhance the image using the Dark Channel Prior\n",
    "    enhanced_image = dehaze(input_image)\n",
    "\n",
    "    # Save the enhanced image to the output folder within the input folder\n",
    "    output_image_path = os.path.join(output_folder, image_file)\n",
    "    cv2.imwrite(output_image_path, enhanced_image)\n",
    "\n",
    "print(\"Enhancement complete. Enhanced images are saved in the 'Output' folder within the 'Input' folder.\")"
   ]
  },
  {
   "cell_type": "code",
   "execution_count": null,
   "id": "148a151a",
   "metadata": {},
   "outputs": [],
   "source": []
  }
 ],
 "metadata": {
  "kernelspec": {
   "display_name": "Python 3 (ipykernel)",
   "language": "python",
   "name": "python3"
  },
  "language_info": {
   "codemirror_mode": {
    "name": "ipython",
    "version": 3
   },
   "file_extension": ".py",
   "mimetype": "text/x-python",
   "name": "python",
   "nbconvert_exporter": "python",
   "pygments_lexer": "ipython3",
   "version": "3.11.4"
  }
 },
 "nbformat": 4,
 "nbformat_minor": 5
}
